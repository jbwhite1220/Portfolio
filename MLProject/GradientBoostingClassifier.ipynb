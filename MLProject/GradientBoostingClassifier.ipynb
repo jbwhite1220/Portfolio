{
  "cells": [
    {
      "cell_type": "markdown",
      "metadata": {
        "id": "view-in-github",
        "colab_type": "text"
      },
      "source": [
        "<a href=\"https://colab.research.google.com/github/jbwhite1220/Portfolio/blob/main/GradientBoostingClassifier.ipynb\" target=\"_parent\"><img src=\"https://colab.research.google.com/assets/colab-badge.svg\" alt=\"Open In Colab\"/></a>"
      ]
    },
    {
      "cell_type": "code",
      "execution_count": 1,
      "metadata": {
        "colab": {
          "base_uri": "https://localhost:8080/"
        },
        "id": "6NfFIfKN_SSA",
        "outputId": "a49cec18-80f7-4a1b-9b55-640752a599ef"
      },
      "outputs": [
        {
          "output_type": "stream",
          "name": "stdout",
          "text": [
            "Mounted at /content/drive\n"
          ]
        }
      ],
      "source": [
        "from google.colab import drive\n",
        "drive.mount('/content/drive')"
      ]
    },
    {
      "cell_type": "code",
      "execution_count": 3,
      "metadata": {
        "id": "IA5AG4CC_eC3"
      },
      "outputs": [],
      "source": [
        "import sys\n",
        "import re"
      ]
    },
    {
      "cell_type": "code",
      "execution_count": 5,
      "metadata": {
        "id": "m83Ai3nE-tIt"
      },
      "outputs": [],
      "source": [
        "def load_data(filename):\n",
        "    f = open(filename, 'r')\n",
        "    p = re.compile(',')\n",
        "    namehash = {}\n",
        "    tr_atr = []\n",
        "    tr_val = []\n",
        "\n",
        "    for l in f:\n",
        "\n",
        "        # segments the info for each line of the file\n",
        "        example = [x for x in p.split(l.strip())]\n",
        "\n",
        "        # checks the status of the 2nd element of example\n",
        "        # and sets the value of y accordingly\n",
        "        n = example[1]\n",
        "        if n == 'M':\n",
        "            y = 1\n",
        "        elif n == 'B':\n",
        "            y = 0\n",
        "\n",
        "        # removes first 2 elemnts of example\n",
        "        example = example[2:]\n",
        "        x = [float(i) for i in example]\n",
        "        # Each example is a tuple containing both x (vector) and y (int)\n",
        "        # add the values of x and y to the attributes and values list, respectively\n",
        "        tr_atr.append(x)\n",
        "        tr_val.append(y)\n",
        "\n",
        "\n",
        "\n",
        "    # halves training data to create testing set\n",
        "    split = 1 + len(tr_atr)//2\n",
        "    te_atr = tr_atr[split:]\n",
        "    te_val = tr_val[split:]\n",
        "    del tr_atr[split:]\n",
        "    del tr_val[split:]\n",
        "\n",
        "    # halves test set to create development set\n",
        "    split = 1 + len(te_atr)//2\n",
        "    dv_atr = te_atr[split:]\n",
        "    dv_val = te_val[split:]\n",
        "    del te_atr[split:]\n",
        "    del te_val[split:]\n",
        "\n",
        "\n",
        "    # return all the attribute and value sets\n",
        "    return (tr_atr, tr_val, te_atr, te_val, dv_atr, dv_val)"
      ]
    },
    {
      "cell_type": "code",
      "execution_count": 7,
      "metadata": {
        "colab": {
          "base_uri": "https://localhost:8080/",
          "height": 35
        },
        "id": "SOAEYpZI-OKx",
        "outputId": "21716f64-f532-46a4-c02a-f50705f5631c"
      },
      "outputs": [
        {
          "output_type": "execute_result",
          "data": {
            "text/plain": [
              "'dev score: 0.9645390070921985 test score: 0.965034965034965'"
            ],
            "application/vnd.google.colaboratory.intrinsic+json": {
              "type": "string"
            }
          },
          "metadata": {},
          "execution_count": 7
        }
      ],
      "source": [
        "import random\n",
        "\n",
        "from sklearn.ensemble import GradientBoostingClassifier\n",
        "\n",
        "# set the randomizer seed, for consistent tests\n",
        "random.seed(10)\n",
        "\n",
        "# load the data file into train, test, and dev sets\n",
        "X_train, y_train, X_test, y_test, X_dev, y_dev = load_data('drive/MyDrive/Folders: Quarterly/Spring 2023/CS 472/Final Project/wdbc.data')\n",
        "\n",
        "# define the sklearn Gradient Boosting Classifier model and fit it to the training sets\n",
        "# 4 attributes have tweaked and set to achieve the best development and test scores\n",
        "model = GradientBoostingClassifier(n_estimators=100, learning_rate=.9, max_depth=1, random_state=0).fit(X_train, y_train)\n",
        "\n",
        "\n",
        "dev_score = model.score(X_dev,y_dev)\n",
        "test_score = model.score(X_test,y_test)\n",
        "\n",
        "f\"dev score: {dev_score} test score: {test_score}\"\n",
        "\n"
      ]
    }
  ],
  "metadata": {
    "colab": {
      "provenance": [],
      "include_colab_link": true
    },
    "kernelspec": {
      "display_name": "Python 3 (ipykernel)",
      "language": "python",
      "name": "python3"
    },
    "language_info": {
      "codemirror_mode": {
        "name": "ipython",
        "version": 3
      },
      "file_extension": ".py",
      "mimetype": "text/x-python",
      "name": "python",
      "nbconvert_exporter": "python",
      "pygments_lexer": "ipython3",
      "version": "3.11.6"
    }
  },
  "nbformat": 4,
  "nbformat_minor": 0
}
